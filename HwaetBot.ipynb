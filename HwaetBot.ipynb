{
 "metadata": {
  "name": "",
  "signature": "sha256:20148a9be5691923846245548e61f807210452b54b7123eae21a40e48097490f"
 },
 "nbformat": 3,
 "nbformat_minor": 0,
 "worksheets": [
  {
   "cells": [
    {
     "cell_type": "code",
     "collapsed": false,
     "input": [
      "import nltk\n",
      "from bs4 import BeautifulSoup\n",
      "from unipath import Path\n",
      "import re\n",
      "\n",
      "nltk.download('punkt', './nltk_data')\n",
      "nltk.data.path.append('./nltk_data/')\n",
      "sent_detector = nltk.data.load('tokenizers/punkt/english.pickle')\n",
      "\n",
      "UTF8_TAB = '\\xc2\\xa0'"
     ],
     "language": "python",
     "metadata": {},
     "outputs": [
      {
       "output_type": "stream",
       "stream": "stdout",
       "text": [
        "[nltk_data] Downloading package punkt to ./nltk_data...\n",
        "[nltk_data]   Unzipping tokenizers/punkt.zip."
       ]
      },
      {
       "output_type": "stream",
       "stream": "stdout",
       "text": [
        "\n"
       ]
      }
     ],
     "prompt_number": 162
    },
    {
     "cell_type": "code",
     "collapsed": false,
     "input": [
      "p = Path('./riddlescrape/data/')\n",
      "    \n",
      "prose = []\n",
      "english_riddles = []\n",
      "old_english_riddles = []\n",
      "for path in p.walk(filter=lambda p: p.isfile() and re.match(r\".*html\", p.name)):\n",
      "    soup = BeautifulSoup(path.read_file().decode('utf-8'))\n",
      "    prose = prose + [tag.text for tag in soup.select('div.prose p')]\n",
      "    for row in soup.select(\"table tr\"):\n",
      "        row_tds = row.findAll('td', {'align': 'left'})\n",
      "        if len(row_tds) > 1:\n",
      "            english_riddles.append(row_tds[0].text.strip().encode('utf-8'))\n",
      "            old_english_riddles = old_english_riddles + [tag.text.strip().encode('utf-8') for tag in row_tds[1:]]\n",
      "\n",
      "print len(prose)\n",
      "print len(english_riddles)\n",
      "print len(old_english_riddles)\n",
      "\n",
      "\n",
      "english_riddles[-1] = english_riddles[-1].replace(' (etc. as l. 2 above)', '') # Very specific fix\n",
      "\n",
      "riddle_sentences = []\n",
      "\n",
      "multiple_spaces = re.compile(ur'(\\s)+', re.UNICODE)\n",
      "space_before_punct = re.compile(ur' (\\W)', re.UNICODE)\n",
      "\n",
      "for riddle in english_riddles:\n",
      "    sentences = sent_detector.tokenize(riddle.strip().decode('utf-8'))\n",
      "    sentences = map(lambda x : x.encode('utf-8'), sentences)\n",
      "    only_real_sentences = filter(lambda x: len(x) >= 15, sentences)\n",
      "    cleaned = map(lambda x: re.sub(multiple_spaces, ' ', x.lower().replace('\\n', ' ').replace('\\xc2\\xa0', ' ')), only_real_sentences)\n",
      "    cleaned = map(lambda x: re.sub(space_before_punct, r'\\1', x), cleaned)\n",
      "\n",
      "    riddle_sentences = riddle_sentences + cleaned\n",
      "    \n",
      "# Clean stuff\n",
      "len(riddle_sentences)\n",
      "\n",
      "riddle_sentences[0]"
     ],
     "language": "python",
     "metadata": {},
     "outputs": [
      {
       "output_type": "stream",
       "stream": "stdout",
       "text": [
        "337\n",
        "98\n",
        "100\n"
       ]
      },
      {
       "metadata": {},
       "output_type": "pyout",
       "prompt_number": 102,
       "text": [
        "'what good man is so learned and so clever that he can say who drives me forth on my way?'"
       ]
      }
     ],
     "prompt_number": 102
    },
    {
     "cell_type": "code",
     "collapsed": false,
     "input": [
      "for i, sentence in enumerate(riddle_sentences):\n",
      "    print \"%s :: %s (%s)\" % (i, sentence, len(sentence))"
     ],
     "language": "python",
     "metadata": {},
     "outputs": [
      {
       "output_type": "stream",
       "stream": "stdout",
       "text": [
        "0 :: what good man is so learned and so clever that he can say who drives me forth on my way? (88)\n",
        "1 :: when i rise up strong at times furious, i thunder mightily and again with havoc i sweep over the land, burn the great hall, ravage the buildings. (145)\n",
        "2 :: smoke mounts on high dark over the rooftops. (44)\n",
        "3 :: clamor is everywhere, sudden death among men. (45)\n",
        "4 :: when i shake the forest, the trees proud in their fruit, i fell the boles. (74)\n",
        "5 :: with my roof of water, by the powers above i am driven far and wide on my avenging path. (88)\n",
        "6 :: i bear on my back what once covered the forms of the earth-dwellers, their body and soul together in the waters. (112)\n",
        "7 :: say what covers me or what i am called who bear this burden. (60)\n",
        "8 :: i know a noble guest, dear to princes, whom grim hunger cannot harm, nor hot thirst, nor age nor illness. (105)\n",
        "9 :: if kindly the servant always tend him, he who must go along on the journey; safe and certain they will find at home food and joy and countless kin; but sorrow if the servant obeys his lord badly, his master on their journey; nor will brother fear brother when unharmed they leave quickly the bosom of their kin, mother and sister. (330)\n",
        "10 :: let whoever will with fitting words name the guest or the servant i speak of here. (82)\n",
        "11 :: eternal is the creator who controls this earth now on its foundations \u2026[and] holds the world. (95)\n",
        "12 :: strong is the ruler and king by right, mighty over all. (55)\n",
        "13 :: the earth and the heavens he holds and wields as he encircles them about. (73)\n",
        "14 :: me he wondrously made at the beginning when at the first he established this universe. (86)\n",
        "15 :: he bade me to live long unsleeping that i slumber not forever after. (68)\n",
        "16 :: and me suddenly sleep overcomes; both my eyes are quickly closed. (65)\n",
        "17 :: all this world the mighty lord moves with mastery in all its parts; so that i at the world of the mighty ruler all this universe encircle about. (144)\n",
        "18 :: i am so timid that a fleeting phantom terribly can fill me with fright; and i am everywhere bolder than a boar when swollen with fury it stands at bay. (151)\n",
        "19 :: no banner-bearer can overcome me throughout the world save god alone who holds and rules this high heaven. (106)\n",
        "20 :: my fragrance is stronger. (25)\n",
        "21 :: than any incense or any rose in the field of earth. (51)\n",
        "22 :: beautifully blooms; i am stronger than that. (44)\n",
        "23 :: although the lily is precious to men, and bright of blossom i am better than it; thus the odor of nard i(quite) overcome with my very sweetness ever and everywhere. (164)\n",
        "24 :: and i am fouler than this black fen that here evilly smells of filth. (69)\n",
        "25 :: and i govern under heaven\u2019s expanse as the beloved father taught me at the start, that i must rule with right justice over thick and thin, and everywhere hold the form and feature of every thing. (197)\n",
        "26 :: i am brighter than heaven; the high king bids me to hold and cherish his secret treasures. (90)\n",
        "27 :: i scan all things also under the earth, the dirty dens of evil spirits. (71)\n",
        "28 :: i am very much older than this universe or this middle-world could ever be. (75)\n",
        "29 :: i was yesterday born, a child begotten to the glory of man, from my mother\u2019s womb. (84)\n",
        "30 :: fairer i am than ornaments of gold, although they be covered with delicate work. (80)\n",
        "31 :: i am filthier too than this foul wood or this seaweed that lies cast up here. (77)\n",
        "32 :: i am wider than the world any and everywhere and extend farther than this green meadow. (87)\n",
        "33 :: a hand can seize me and three fingers can easily embrace me all round about. (76)\n",
        "34 :: i am harder and colder than the hard frost; the grim rime when it comes on the ground. (86)\n",
        "35 :: [i am] hotter than vulcan\u2019s up-ascending fire and brightly shining flame. (75)\n",
        "36 :: i am on the palate of men sweeter than the honeycomb when filled with honey. (76)\n",
        "37 :: just so am i bitterer than wormwood is that darkly stands here in the forest. (77)\n",
        "38 :: feed i can even more mightily and eat just as much as an old giant, and i always can live a happy life though i see no food my whole life long. (143)\n",
        "39 :: i can fly more boldly than the pernex[2] can or eagle or hawk ever could. (73)\n",
        "40 :: there is no zephyrus, that rapid wind, that can anywhere so boldly move. (72)\n",
        "41 :: the snail is swifter than i, the earthworm faster, the swamp frog more active in movement and the offspring of dung is quicker in stirring, which we call \u201cbeetle,\u201d when we give it a name. (191)\n",
        "42 :: i am heavier far than the gray stone or a lump of lead which is not small. (74)\n",
        "43 :: i am much lighter than this little bug which walks on the water with dry feet; than the flint i am harder which drives this fire from this strong, this hard, steel. (164)\n",
        "44 :: i am softer far than the downy feather that here in the wind flutters on the air. (81)\n",
        "45 :: i am everywhere broader than all the earth and farther extend than this green meadow. (85)\n",
        "46 :: [3] i encircle \u2026 all round about wondrously woven with wonderful skill. (73)\n",
        "47 :: under me there is no other more powerful wight among living things. (67)\n",
        "48 :: i am above the creatures all which our lord did create who can me alone by his eternal power restrain by force from exceeding my bounds. (136)\n",
        "49 :: i am greater and stronger than the large whale which looks on the bottom of the sea-deeps with dim vision; i am mightier than he even as i am less in my own strength than the handworm which the sons of men in skilful manner dig out with a knife. (245)\n",
        "50 :: i have on my head no white locks, cunningly curled, but i am quite bald; nor could i enjoy eyelids or eyebrows. (111)\n",
        "51 :: but me the creator deprived of them all. (40)\n",
        "52 :: now wondrously grow on my head so that they may shine on my shoulders, full wondrously, curly locks. (100)\n",
        "53 :: i am bigger and fatter than the masty swine, the grunting boar in the beech forest that dark and rooting happy lives, so that he \u2026. (133)\n",
        "54 :: i am greater than all this world is, less than the handworm, brighter than the moon, swifter than the sun. (106)\n",
        "55 :: all seas and waters are in my embraces, and the bosom of earth and the green fields. (84)\n",
        "56 :: i reach to the ground, i descend below hell, i rise above the heavens, the land of glory. (89)\n",
        "57 :: i extend far over the home of angels. (37)\n",
        "58 :: i fill the earth, the whole wide world and the ocean currents, all by myself. (77)\n",
        "59 :: say what my name is. (20)\n",
        "60 :: i saw in the hall where heroes drank a thing of four kinds borne in thither. (76)\n",
        "61 :: it was of splendid wood, and twisted gold, skilfully wound, and part of it silver; and the sign of the road of him who raised us step by step up to heaven before he stormed the castle of hell\u2019s people. (203)\n",
        "62 :: i can readily report on the excellence of the wood: there was maple and oak and tough yew and the dark holly. (109)\n",
        "63 :: they are all together a help to good men. (41)\n",
        "64 :: one name they have: wolf-head tree, that often afforded a weapon for its lord, a treasure in the hall, a gold-hilted sword. (123)\n",
        "65 :: now show me the answer of this my song, whoever may presume to say in words how the wood is called. (99)\n",
        "66 :: i am an active flame; i sport with the wind, enwound with wonder, enwrapped by the storm, eager on my way, troubled by fire, a blooming grove, a burning flame. (159)\n",
        "67 :: friends often pass me from hand to hand so that men and women proudly kiss me. (78)\n",
        "68 :: when i rise up they bow down to me, many joyfully, where i shall add to the oncoming of blessedness to men. (107)\n",
        "69 :: i have heard of a ring bright without tongue intercede for heroes. (66)\n",
        "70 :: well it spoke with strong words though not loud. (48)\n",
        "71 :: this treasure for men silently said: \u201cheal me helper of souls.\u201d may men understand the magic meaning of the speech of the red gold. (135)\n",
        "72 :: may the wise entrust their salvation to god, as the ring said. (62)\n",
        "73 :: i saw in the hall a golden ring which men beheld with happy hearts, with wise minds. (84)\n",
        "74 :: peace and salvation has god offered to every guest who turns the ring. (70)\n",
        "75 :: a word then it spoke, the ring to the gathering. (48)\n",
        "76 :: it named the saviour of righteous men. (38)\n",
        "77 :: dumb it brought clearly to their minds the lord\u2019s name and to the sight of their eyes if one could grasp the true meaning of the noble gold. (142)\n",
        "78 :: the wounded lord, do as the wounds of the ring had said. (56)\n",
        "79 :: nor can to the prayer. (22)\n",
        "80 :: the soul of any man unfulfilled seek the princely city, the castle of heaven. (77)\n",
        "81 :: explain how the wounds of this splendid ring spoke to mortals when there in the hall it was turned and revolved in the hands of the proud. (138)\n",
        "82 :: christ, the commander, the true lord of victories, ordained me for conflict. (76)\n",
        "83 :: i burn the living, unnumbered mortals, over all the earth. (58)\n",
        "84 :: i afflict them with pain, yet never i touch them, whenever my lord bids me to battle. (85)\n",
        "85 :: sometimes i gladden the minds of many; sometimes i comfort those i make war on, even from afar. (95)\n",
        "86 :: they feel it, nonetheless, the hurt and the healing, when now and again, over deep tribulation, i better their fortunes. (120)\n",
        "87 :: my garment is darkish. (22)\n",
        "88 :: bright decorations, red and radiant, i have on my raiment. (58)\n",
        "89 :: i mislead the stupid and stimulate the foolish toward unwise ways. (66)\n",
        "90 :: others i restrain from profitable paths. (40)\n",
        "91 :: but i know not at all that they, maddened, robbed of their senses, astray in their actions \u2014that they praise to all men my wicked ways. (137)\n",
        "92 :: woe to them then when the most high holds out his dearest of gifts if they do not desist first from their folly. (112)\n",
        "93 :: over the hillsides this air upholds bright little creatures, swarthy and dark-clad; bold of song, they fare in flocks and loudly chirp. (135)\n",
        "94 :: they tread the headlands, sometimes men\u2019s houses. (51)\n",
        "95 :: they name themselves. (21)\n",
        "96 :: sometimes i set forth \u2014when none would expect it\u2014 under turbulent waves, seeking the depths, the floor of ocean. (116)\n",
        "97 :: the sea is aroused,. (20)\n",
        "98 :: foam is tossed up; the home of whales roars and rages. (54)\n",
        "99 :: streams lash the shore, violently dash up the steep strand with sand and shingle and seaweed, when surging i struggle and strive beneath the sea currents, stir up the bottom, the broad sea deeps. (195)\n",
        "100 :: nor can i escape from the sea\u2019s surface until he permits who guides all my ways. (82)\n",
        "101 :: o wise man, say, who is it drew me from the sea\u2019s embraces when the surges again are stilled and quiet and calm the waves which covered me first. (147)\n",
        "102 :: sometimes my lord constrains me close and forces me under the broad bosom of the fertile fields and holds me there, drives me into darkness, where hard on my back the earth sits heavy. (184)\n",
        "103 :: there is no escape from all that torment; but the houses of heroes, their gabled halls, i cause to tremble and shake the walls of the dwellings of men, high over their heads. (174)\n",
        "104 :: the air seems still in the skies above and the waters quiet\u2014 until from confinement upwards i thrust, even as he commands who laid at the beginning my fetters upon me. (169)\n",
        "105 :: i can never be free from the power that points the path i follow. (65)\n",
        "106 :: sometimes from above i rouse the surges, stir up the waters and drive to the shore the flint-gray flood. (104)\n",
        "107 :: foaming the waves fight with the wall. (38)\n",
        "108 :: dim stands up the dune over the deep; dark behind it blended with the sea comes another surge. (94)\n",
        "109 :: together they meet by the sea-mark there by the high ridges. (60)\n",
        "110 :: loud is the wooden ship, the noise of the sailors. (50)\n",
        "111 :: calmly await the steep stone cliffs the battle of waters, the clashing waves, when high the violence crowds on the headlands. (125)\n",
        "112 :: there must the keel find bitter battle, if the sea lifts it with all its men in that terrible hour; till out of control, robbed of its life, it rides through the foam on the back of the waves. (192)\n",
        "113 :: then will be panic there, manifest to mortals;. (47)\n",
        "114 :: but i must obey, strong on my fierce way. (41)\n",
        "115 :: who will still that? (20)\n",
        "116 :: sometimes i rush through the wan wet clouds that ride on my back, scatter them wide with their streaming water. (111)\n",
        "117 :: sometimes i allow them to glide together. (41)\n",
        "118 :: great is the din, uproar over houses, and loudest of crashes, when fiercely comes cloud against cloud like sword against sword. (127)\n",
        "119 :: darkling spirits, swift over mortals, sweat with fire, with gleaming flame and fearful noises. (94)\n",
        "120 :: above mankind with dreadful din they fare fighting; they let fall then swart rattling streams from out their bosom, water from within. (134)\n",
        "121 :: fighting moves on the terrible host; panic arises, a mighty fear in the hearts of mankind; horror in towns when gleaming shoots the gliding demon with sharp weapons. (165)\n",
        "122 :: he is dull who dreads not these arrows of death; he dies nonetheless if the true lord down through the rain, straight from above lets fly the darts of the fiery storm, its swift arrows. (185)\n",
        "123 :: few escape this who are reached by the darts of the hostile rain. (65)\n",
        "124 :: i stand in the van of this battlefront when on i press the column of cloud, push through the strife in masterful might on the breast of the burns. (146)\n",
        "125 :: crowding in battle the high storm bursts. (41)\n",
        "126 :: then down i bend under the helm of the sky close to the ground, bearing on my back the burden i carry by the command of him, the all-powerful lord. (147)\n",
        "127 :: thus a mighty servant i do battle by turns\u2014 sometimes under ground; sometimes i must deep undermine the waves; sometimes from on high i arouse the waters, or rising aloft stir up the clouds. (192)\n",
        "128 :: widely i pass, swift and violent. (33)\n",
        "129 :: tell me my name, or who lifts and drives me, when i may not rest, or who it is steadies me when i become still. (111)\n",
        "130 :: in those first days my father and mother left me for dead: there was no life yet, no life within me. (100)\n",
        "131 :: then a kindly kinswoman faithfully covered me with her own clothing, held me and cherished, kept me warmly, even as gently as her own children\u2014 until beneath her, as my destiny willed, i waxed into life with my alien fellows. (227)\n",
        "132 :: my friend and protector nourished me then till i grew and grew able to go forth by myself. (90)\n",
        "133 :: because of this now her own dear children, sons and daughters, were fewer, alas. (80)\n",
        "134 :: silent is my garment when i tread the earth or dwell in the towns or stir the waters. (85)\n",
        "135 :: sometimes my trappings lift me up over the habitations of heroes and this high air, and the might of the welkin bears me afar above mankind. (140)\n",
        "136 :: then my adornments resound in song and sing aloud with clear melody \u2014when i do not rest on land or water, a moving spirit. (124)\n",
        "137 :: i speak through my mouth with many voices. (42)\n",
        "138 :: skilfully i sing with many modulations, loud and strong, with various tunes. (76)\n",
        "139 :: i sing as i must, unhampered, unhindered. (41)\n",
        "140 :: i am the nighttime songster of old. (35)\n",
        "141 :: i bring joy to the men who dwell in the towns. (46)\n",
        "142 :: when i sing out with my flexible tones they sit at home silent. (63)\n",
        "143 :: tell me my name who brightly imitate professional singers and loudly foretell many welcome tidings. (99)\n",
        "144 :: my beak was close fettered, the currents of ocean, running cold beneath me. (75)\n",
        "145 :: there i grew in the sea, my body close to the moving wood. (58)\n",
        "146 :: i was all alive when i came from the water, clad all in black, but a part of me white. (86)\n",
        "147 :: when living, the air lifted me up, the wind from the wave, and bore me afar, up over the seal\u2019s bath. (103)\n",
        "148 :: tell me my name. (16)\n",
        "149 :: i move on my feet, i break up the ground, the green meadows, as long as i live. (79)\n",
        "150 :: if life leaves me i then bind fast the swarthy welsh, and sometimes better men. (79)\n",
        "151 :: sometimes i give drink to a strong man from out of my bosom. (60)\n",
        "152 :: sometimes the stately dame treads me underfoot. (47)\n",
        "153 :: sometimes the welsh girl, dark-haired slave brought from afar, stupid and drunk, on dark nights lifts me and presses me, soaks me in water, warms me sometimes kindly by the fire, her wanton hands thrust in my bosom; turning often sweeps through the dark. (254)\n",
        "154 :: say what my name is who living ravage the land, and dead am of service to men. (78)\n",
        "155 :: i was little \u2026 \u2026 my sister fed me. (38)\n",
        "156 :: \u2026 often i tugged at four dear brothers, each one gave me daily to drink, through a hole freely. (97)\n",
        "157 :: i throve happily until i was older and left all that to the swarthy herdsman. (77)\n",
        "158 :: i traveled farther to the welsh marches, traversed the moors, bound under a beam. (81)\n",
        "159 :: i had a ring on my neck, suffered woes on my way, was forced to perform my share of labors. (91)\n",
        "160 :: often the goad hurt me sorely on my sides. (42)\n",
        "161 :: but i was silent, never spoke out to any man, if ever the pricks were painful to me. (84)\n",
        "162 :: i saw the creature, of the arms-bearing kind, greedy for youth\u2019s joys. (72)\n",
        "163 :: as its due it let four nourishing fountains, brightly shining, shoot forth noisily, as is right and proper. (107)\n",
        "164 :: then spake a man, who said to me: \u201cthe creature, if it lives, will break up the hillside; if rent apart, will bind the living.\u201d (131)\n",
        "165 :: i saw a woman sitting alone. (28)\n",
        "166 :: i saw them, all ten, treading the turf, the six brothers and their sisters too, living and lively. (98)\n",
        "167 :: their skins hung plainly, visibly manifest, on the wall of the house, each and every one; nor was any the worse, nor side the sorer, though thus they must, despoiled of their raiment, roused by the power of heaven\u2019s lord, tear with their mouths the gray-green leaves. (269)\n",
        "168 :: their garment is renewed; having now come forth they leave their coverings lying behind them as they tread the ground. (118)\n",
        "169 :: my neck is white, my head is tawny and so are my sides. (55)\n",
        "170 :: i am swift in my stride. (24)\n",
        "171 :: i bear weapons of battle. (25)\n",
        "172 :: on my back there is hair and the same on my cheeks. (51)\n",
        "173 :: over my eyes two ears stand up. (31)\n",
        "174 :: i walk on my toes in the green grass. (37)\n",
        "175 :: my doom is certain if anyone finds me, if a slaughterous fighter finds me hidden where i make my home, bold with my bairns. (123)\n",
        "176 :: and there i abide with my little family when the stranger comes to my very doors. (81)\n",
        "177 :: death is their doom. (20)\n",
        "178 :: i must carry them off, save them by flight with fear in my heart away from my home. (83)\n",
        "179 :: if he crowds me hard, moving on his belly, i dare not abide that fierce one in my burrow(that would be surely not a good counsel) but bravely i must with both hands and feet create a path through the high hill. (210)\n",
        "180 :: easily i can save them, my beloved kin, if i can bring my household by a secret way through the hollow hill; for there i need fear never a whit the murderous whelp. (164)\n",
        "181 :: if the hateful foe follows me hard through the narrow track he shall have no lack of the clash of battle when we meet in the burrow; when i get to the top of the hill and turn on him with weapons of war, whom i formerly fled from. (230)\n",
        "182 :: i saw a being in wondrous wise hold its plunder between its horns, a vessel of light, of shining beauty, bringing it home, a spoil of battle. (141)\n",
        "183 :: it wished to build a bower in the burg and cunningly place it \u2014if so might be. (80)\n",
        "184 :: then a wondrous being came over the roof, known to all children of mortal men, recovered the spoil and then brought back the unwilling exile. (141)\n",
        "185 :: westward it went, hurrying home after the battle. (49)\n",
        "186 :: dust rose to the skies; dew fell on the ground; night departed and none thereafter knew its way, whither it went. (113)\n",
        "187 :: the sea fed me; the water-helm was over me, and waves covered me, close to the ground. (86)\n",
        "188 :: i was footless. (15)\n",
        "189 :: often toward the water i opened my mouth. (41)\n",
        "190 :: now people will eat my meat. (28)\n",
        "191 :: they want not my skin. (22)\n",
        "192 :: when they rip my hide with the point of a knife. (48)\n",
        "193 :: then they eat me uncooked. (26)\n",
        "194 :: i saw a thing in the dwellings of men that feeds the cattle; has many teeth. (76)\n",
        "195 :: the beak is useful to it; it goes downwards, ravages faithfully; pulls homewards; hunts along walls; reaches for roots. (119)\n",
        "196 :: always it finds them, those which are not fast; lets them, the beautiful, when they are fast, stand in quiet in their proper places, brightly shining, growing, blooming. (169)\n",
        "197 :: my beak is downward and low i move and dig in the ground. (57)\n",
        "198 :: the hoar foe of the forest directs my movements; and so my master goes bent over, the guide at my tail, drives across the field, pushes me and crowds me, and sows in my swath. (175)\n",
        "199 :: i go sniffing along, brought from the woodland, stoutly fastened, borne on a wagon. (83)\n",
        "200 :: i have many strange ways. (25)\n",
        "201 :: i leave green on one side and black on the other. (49)\n",
        "202 :: driven through my back there hangs beneath a well-sharpened point; on my head another, firm and forward-moving. (111)\n",
        "203 :: what i tear with my teeth falls to the side, if he serves me well, my lord who behind me heeds me and guides me. (112)\n",
        "204 :: my head is forged with the hammer, hurt with sharp tools, smoothed by files. (76)\n",
        "205 :: i take in my mouth what is set before me when girded with rings i am forced to strike, hard against hard, pierced from behind, must draw forth what protects at midnight the heart\u2019s delight of my own lord. (206)\n",
        "206 :: sometimes i turn backwards my beak, when, protector of treasure, my lord wishes to hold the leavings of those he had driven from life by battle-craft for his own desire. (169)\n",
        "207 :: i know a thing with a single foot doing deeds of might. (55)\n",
        "208 :: it travels not nor rides much, nor can it fly through the clear air; nor does ship carry it, a boat with nailed planks. (119)\n",
        "209 :: it is nevertheless useful to its master at many times. (54)\n",
        "210 :: it has a heavy tail and a small head and a long tongue. (55)\n",
        "211 :: it has no tooth; part is of iron. (33)\n",
        "212 :: it goes through a hollow. (25)\n",
        "213 :: it swallows no water, it eats nothing, it desires no fodder. (60)\n",
        "214 :: often notwithstanding it bears water aloft. (43)\n",
        "215 :: it boasts not of life or of gifts from its chief. (49)\n",
        "216 :: it obeys nonetheless its master\u2019s word. (41)\n",
        "217 :: in its name there are three real runes. (39)\n",
        "218 :: r\u0101d is the first. (18)\n",
        "219 :: bound with rings i must readily obey from time to time my servant and master and break my rest, make noisily known that he gave me a band to put on my neck. (156)\n",
        "220 :: often a man or a woman has come to greet me, when weary with sleep, wintry-cold, i answer him:(their hearts were angry): \u201ca warm limb sometimes bursts the bound ring.\u201d nonetheless it is pleasant to him, my servant, a half-witted man, and to me the same, if one knows aught and can then with words riddle my riddle successfully. (331)\n",
        "221 :: i have a puffed-out breast and a swollen neck; i have a head and a tall tail; i have eyes and ears and a single foot, a rough hard bill and a long neck and two sides; hollow in the middle. (188)\n",
        "222 :: my home is over men. (20)\n",
        "223 :: i suffer much whenever he moves me who stirs the forest, and rains and hard hail beat on me as i stand, and frost freezes and snow falls on me, hollow-bellied. (159)\n",
        "224 :: i was in there where i saw something, a thing of wood, wound a striving thing, the moving beam \u2014it received battle wounds, deep injuries; spears caused the hurts of this thing; and the wood was fast bound cunningly. (217)\n",
        "225 :: one of its feet was stable, fixed; the other worked busily, played in the air, sometimes near the ground. (105)\n",
        "226 :: a tree was nearby, that stood there hung with bright leaves. (60)\n",
        "227 :: i saw the leavings of the arrow-work brought to my lord where heroes sat over their drinks. (91)\n",
        "228 :: i know a something that stands firm on the ground, deaf and dumb, that by day often swallows from the servant\u2019s hand useful gifts. (132)\n",
        "229 :: sometimes in the towns the dark thane, swarthy and dun-faced, sends more of these into its mouth, dearer than gold, which men of rank often desire, kings and queens. (165)\n",
        "230 :: i will not now yet name his nature who for use and profit of doughty men makes what the dumb thing(that dun-faced nitwit) first swallows up. (140)\n",
        "231 :: i was alive but said nothing; even so i die. (44)\n",
        "232 :: back i came before i was. (25)\n",
        "233 :: everyone plunders me, keeps me confined, and shears my head, bites my bare body, breaks my sprouts. (99)\n",
        "234 :: no man i bite unless he bites me; many there are who do bite me. (64)\n",
        "235 :: the books tell us that this thing has been among mankind through many ages clear and manifest. (94)\n",
        "236 :: a special power it has much greater than any men know. (54)\n",
        "237 :: it wishes to seek all living beings one by one; then goes its way; no second night in the same place; but homeless roves for ever and aye, the path of exile. (157)\n",
        "238 :: it is none the poorer. (22)\n",
        "239 :: it has neither foot nor hand, nor touches the ground, nor two eyes nor mouth nor speaks with men. (97)\n",
        "240 :: it has no mind, but the books say it is quite the poorest of all creatures that were ever begotten according to nature. (119)\n",
        "241 :: it has no soul nor life, but makes its way far and wide through this wonderful world it has no blood, no bone, yet gives aid and comfort to many men the wide world over. (169)\n",
        "242 :: it never reached to heaven, it may not to hell, but forever it must live by the teachings of the king of glory. (111)\n",
        "243 :: long is it to relate how its way of life will go thereafter fate\u2019s crooked ways. (82)\n",
        "244 :: this is a marvelous thing to say: it is all true that ever with words is told about it. (87)\n",
        "245 :: it has no limit. (16)\n",
        "246 :: it lives nevertheless. (22)\n",
        "247 :: if you can straightway rede this riddle with true words, tell what its name is. (79)\n",
        "248 :: i saw four things in beautiful fashion journeying together. (59)\n",
        "249 :: dark were their tracks, the path very black. (44)\n",
        "250 :: swift was its moving, faster than birds it flew through the air, dove under the wave. (85)\n",
        "251 :: labored unresting the fighting warrior who showed them the way, all of the four, over plated gold. (98)\n",
        "252 :: i was along the sand, near the sea-wall, at the water\u2019s edge, and firmly fixed in the place of my birth. (106)\n",
        "253 :: few men there were who looked upon my home of solitude. (55)\n",
        "254 :: but at every dawn the dark waves held me in their watery embrace. (65)\n",
        "255 :: little did i think that ever i should sooner or later speak without mouth over the mead-bench, exchange words. (110)\n",
        "256 :: this is a kind of wonder, curious for the minds of such as understand not how the point of a knife and a right hand and a prince\u2019s thought and the point itself purposely fashioned it, that i with thee should boldly declare, for us two alone, a spoken message, so that no other men should further grasp the words of our speech. (328)\n",
        "257 :: a moth ate words. (17)\n",
        "258 :: to me it seemed a remarkable fate, when i learned of the marvel, that the worm had swallowed the speech of a man, a thief in the night, a renowned saying and its place itself. (175)\n",
        "259 :: though he swallowed the word the thieving stranger was no whit the wiser. (73)\n",
        "260 :: an enemy came and took away my life and my strength also in the word; then wetted me, dipped me in water; then took me thence; placed me in the sun, where i lost all my hair. (174)\n",
        "261 :: the knife\u2019s edge cut me\u2014 its impurities ground away; fingers folded me. (75)\n",
        "262 :: and the bird\u2019s delight with swift drops made frequent traces over the brown surface; swallowed the tree-dye with a measure of liquid; traveling across me, left a dark track. (175)\n",
        "263 :: a good man covered me with protecting boards, which stretched skin over me; adorned me with gold. (97)\n",
        "264 :: then the work of smiths decorated me with strands of woven wire. (64)\n",
        "265 :: now may the ornaments and the red dye and the precious possessions everywhere honor the guardian of peoples. (108)\n",
        "266 :: it were otherwise folly. (24)\n",
        "267 :: if the sons of men wish to enjoy me, they will be the safer and surer of victory and the stronger of heart and the happier of mind and the wiser of spirit. (155)\n",
        "268 :: they will have more friends, dearer and closer, truer and better, nobler and more devoted, who will increase their honor and wealth, with love and favors and kindnesses surround them, and clasp them close with loving embraces. (226)\n",
        "269 :: ask me my name. (15)\n",
        "270 :: i am a help to mortals. (23)\n",
        "271 :: my name is a glory and salvation to heroes, and myself am holy. (63)\n",
        "272 :: beautifully made in many ways is this our world, cunningly adorned. (67)\n",
        "273 :: i saw a strange thing singing in a house; its shape was more wonderful than aught among men. (92)\n",
        "274 :: its beak was underneath, its feet and hands birdlike, yet fly it cannot nor walk at all. (88)\n",
        "275 :: yet eager for movement it starts to work with various arts. (59)\n",
        "276 :: it often goes around again and again among noble men. (53)\n",
        "277 :: it sits at the banquet-board, awaits its turn till comes its time to display its skill among those who are near. (112)\n",
        "278 :: it partakes of nothing that the men there have for their pleasure. (66)\n",
        "279 :: brave, eager for glory it remains dumb, yet it has in its foot beautiful sounds, a glorious gift of song. (105)\n",
        "280 :: wondrous it seems to me how this very thing can play with words through its foot beneath adorned with trappings. (112)\n",
        "281 :: it has on its neck when it guards its treasure, bare, proud with rings, its two companions, brother and sister. (111)\n",
        "282 :: it\u2019s a great thing surely for a wise singer to think what this is. (68)\n",
        "283 :: it is a splendid thing when one knows not its ways. (51)\n",
        "284 :: it sings through its sides. (27)\n",
        "285 :: its neck is curved. (19)\n",
        "286 :: and cunningly wrought. (22)\n",
        "287 :: it has two shoulders, which are sharp, on its back. (51)\n",
        "288 :: it follows its fate, when it stands by the road, so handsomely there, tall and bright-hued; useful to good men. (111)\n",
        "289 :: uuob is my name read in reverse. (32)\n",
        "290 :: i\u2019m a beautiful thing, shaped for fighting. (45)\n",
        "291 :: whenever i am bent and there flies from my bosom the poisonous dart i am all eager to drive afar off the deadly bale. (117)\n",
        "292 :: whenever my master who shaped me that pain loosens my limb i am longer than before, till i spit forth again the death-blended bane, that very fell poison which erst i swallowed. (177)\n",
        "293 :: this that i speak of leaves no man easily if that which flies from me should ever touch him, so that perforce he purchases surely with his life that fatal drink, a full atonement. (179)\n",
        "294 :: unstrung i obey no man, but only when skilfully tied. (53)\n",
        "295 :: tell me my name. (16)\n",
        "296 :: i saw a tree with bright branches stand high in a grove. (56)\n",
        "297 :: the tree was happy, the growing wood. (37)\n",
        "298 :: water and earth fed it well, till wise with time it met with a change: it was deeply hurt, dumb with bonds, covered with wounds, but adorned in front with dark ornaments. (170)\n",
        "299 :: now it clears the way for a treacherous foe through the might of its head. (74)\n",
        "300 :: by storm they plunder the hoard together. (41)\n",
        "301 :: eager was the rear and active in aid if the van met danger. (59)\n",
        "302 :: none could venture in difficult places. (39)\n",
        "303 :: i grew up in a field, lived where the earth and the sky fed me, till old in years they turned me aside, those who hated me, from the way that was mine, that i held while i lived. (178)\n",
        "304 :: they altered my fashion, took me from the ground and against my nature made me bow at times to a slayer\u2019s will. (113)\n",
        "305 :: now in my master\u2019s hand. (26)\n",
        "306 :: cares for me well carries me in battle with skill by his will. (62)\n",
        "307 :: it is widely known that i among the bold with a thief\u2019s craft. (64)\n",
        "308 :: sometimes openly against a fastness i break forth where before was peace. (73)\n",
        "309 :: swift in movement he turns in haste away from that place, the warrior who knows what are my ways. (97)\n",
        "310 :: say what my name is. (20)\n",
        "311 :: i am a lonely thing, wounded with iron, switten by sword, sated with battle-work, weary of blades. (98)\n",
        "312 :: often i see battle, fierce combat. (34)\n",
        "313 :: i foresee no comfort, no help will come for me from the heat of battle, until among men i perish utterly; but the hammered swords will beat me and bite me, hard-edged and sharp, the handiwork of smiths, in towns among men. (222)\n",
        "314 :: abide i must always the meeting of foes. (40)\n",
        "315 :: never could i find among the leeches, where people foregather, any who with herbs would heal my wounds; but the sores from the swords are always greater with mortal blows day and night. (185)\n",
        "316 :: a thing there is strangely begotten, furious and fierce; runs a violent course rages grimly, moves over the ground, is mother of many marvelous creatures. (154)\n",
        "317 :: moving beautifully, it is ever striving; low-lying is its close grip. (69)\n",
        "318 :: none to another can fairly with wise words describe its features or say how manifold is the multitude of its kin. (113)\n",
        "319 :: its ancient origin the father watched over, beginning and end, and his only son also, glorious child of god. (108)\n",
        "320 :: mighty in strength the mother is; supported marvelously, laden with food, adorned with treasures, precious to heroes; her might is multiplied, strength made manifest, her face is honored with happy usefulness; a fair bright jewel for the proud to wear; cleanly and bountiful; mighty in craft. (292)\n",
        "321 :: it is dear to the prosperous, to the poor soothing, goodly, excellent; boldest and strongest, greediest and eagerest\u2014 treads over the ground\u2014 of all that is grown up underneath the sky and that the sons of men ever saw with their eyes. (239)\n",
        "322 :: so that glory weaves the might of mortals, although wise of mind. (65)\n",
        "323 :: a man more knowing of heart, a crowd of wonders. (48)\n",
        "324 :: than earth it is harder, than heroes older, than gifts readier, than gems dearer; beautifies the world; increases in fruits; blots out crime \u2026 often casts from without a single covering wondrously beautiful, over all mankind, so that throughout the world men are astonished. (276)\n",
        "325 :: me the wet ground, exceeding cold, first brought forth from within itself. (74)\n",
        "326 :: neither am i wrought of woolen fleece nor of hairs, with skill; i know it in my mind. (85)\n",
        "327 :: i have no winding wefts nor any warp in me; nor with strong rods does the thread resound for me, nor the whirring shuttle move across me, nor the weaver\u2019s rods anywhere smite me. (180)\n",
        "328 :: worms do not weave me with fatal wiles which fairly adorn the fine yellow web. (78)\n",
        "329 :: yet nevertheless the wide world over one will call me a joyful garment for heroes. (82)\n",
        "330 :: say now truly, you cunning sage, learned in language, what this garment may be. (79)\n",
        "331 :: i\u2018m a wonderful thing shaped for fighting, beautifully dressed, dear to my master. (84)\n",
        "332 :: gay colored is my byrnie; bright wire that my wielder who guides me gave me, embraces the death-gem, who sometimes to strife directs my wanderings. (147)\n",
        "333 :: then i bring home treasure through the shining day, handiwork of smiths, gold to the dwellings. (95)\n",
        "334 :: often i slay living warriors with weapons of war. (49)\n",
        "335 :: a king adorns me with jewels and silver and honors me in the hall, nor withholds my praise, publicly proclaims my merits before men, when they drink their mead; sometimes holds me back or frees me when weary with going into battle. (231)\n",
        "336 :: i have often hurt another at the hands of his friend. (53)\n",
        "337 :: i am far and wide hated, accursed among weapons. (48)\n",
        "338 :: i must never hope that a son will avenge me on the life of my slayer if ever an enemy assails me in battle; nor will my kin be increased, the breed whence i sprang\u2014 unless bereft of my lord i might change to a new, turn from the owner who first rewarded me. (259)\n",
        "339 :: henceforth i am fated if i follow a(new) lord to do battle for him as i did for the other, for my prince\u2019s pleasure, that i must forego the wealth of children and know no woman; for he who held me of yore in thrall denies me that bliss. (238)\n",
        "340 :: i must therefore enjoy single, alone, the wealth of heroes. (59)\n",
        "341 :: often foolish in my finery i enrage a woman, diminish her desire; her tongue abuses me; she hits me with her hands, reviles me with words, intones a curse. (155)\n",
        "342 :: i like not this contest.\u2026 (27)\n",
        "343 :: i protect my hearth, my hoard and my home, surrounded by strands and filled within with excellent treasures. (108)\n",
        "344 :: often by day i spit abroad the terror of spears. (48)\n",
        "345 :: my success is the greater the more i am filled. (47)\n",
        "346 :: my master sees this, how darts fly from within me. (50)\n",
        "347 :: sometimes i swallow the swart dark weapons, the poisoned darts. (63)\n",
        "348 :: my entrails are good, precious to warriors, the hoard that i hold. (66)\n",
        "349 :: many remember what goes through my mouth. (41)\n",
        "350 :: i was an armed fighter. (23)\n",
        "351 :: now a young home-dweller covers me proudly with twisted wires, with gold and silver. (84)\n",
        "352 :: sometimes men kiss me. (22)\n",
        "353 :: sometimes with my song i summon to battle happy comrades. (57)\n",
        "354 :: sometimes a steed carries me over the marches. (46)\n",
        "355 :: sometimes a sea-horse bears me over waves with my bright trappings. (67)\n",
        "356 :: sometimes a maiden fills my ring-adorned bosom. (47)\n",
        "357 :: sometimes i must lie hard and headless stripped on the tables. (62)\n",
        "358 :: sometimes i hang, with ornaments proud, on the wall where men drink. (68)\n",
        "359 :: sometimes a good weapon, the warriors bear me, riding on horseback, with treasure laden, i must breathe in the breath of a man\u2019s breast. (138)\n",
        "360 :: sometimes with my music i summon proud warriors to drink their wine. (68)\n",
        "361 :: sometimes with my voice i rescue the booty, put foe to flight. (62)\n",
        "362 :: ask me my name. (15)\n",
        "363 :: i am atheling\u2019s shoulder-companion, a warrior\u2019s comrade, dear to my master, a fellow of kings. (98)\n",
        "364 :: his fair-haired lady sometimes will lay her hand upon me, a prince\u2019s daughter, noble though she be. (101)\n",
        "365 :: i have on my breast what grew in the grove. (43)\n",
        "366 :: sometimes i ride on a proud steed at the army\u2019s head. (55)\n",
        "367 :: hard is my tongue. (18)\n",
        "368 :: often i bring a reward for his words to the singer after his song. (66)\n",
        "369 :: good is my note, and myself am dark-colored. (44)\n",
        "370 :: say what my name is. (20)\n",
        "371 :: i am an atheling\u2019s possession and delight (43)\n",
        "372 :: but i stood upright where i[was], i and my brother. (51)\n",
        "373 :: both of us were hard. (21)\n",
        "374 :: the place was noble where we two stood, the higher in honor. (60)\n",
        "375 :: the holt often hid us, a shelter of trees in the dark nights, shielded us from showers. (87)\n",
        "376 :: the lord made us both. (22)\n",
        "377 :: after us two large ones, our kin will now follow us, younger brothers will drive us from our home. (98)\n",
        "378 :: i am unique in the world. (25)\n",
        "379 :: my back itself is dark and wonderful. (37)\n",
        "380 :: i stand on the wood, at the end of the board. (45)\n",
        "381 :: my brother is not here, but brotherless now i must keep my place at the end of the board and firmly stand. (106)\n",
        "382 :: i know not where my brother is now or where he dwells on the bosom of earth, who formerly dwelt high by my side. (112)\n",
        "383 :: we stood together in making war; neither alone declared his strength, else were we in battle both unavailing. (109)\n",
        "384 :: now strange beings tear into me, injure my insides. (51)\n",
        "385 :: i cannot escape. (16)\n",
        "386 :: on the tracks he will find success, he who seeks it,. (53)\n",
        "387 :: his soul\u2019s profit. (20)\n",
        "388 :: old with many days over deep streams; sometimes he would climb the steep hills up in his homeland; sometimes he went back into deep dales, seeking for safety, strong of stride. (176)\n",
        "389 :: he dug into stony ground, frozen hard; sometimes he shook the frost from his bright white hair. (95)\n",
        "390 :: i rode with the eager ones until my younger brother seized the seat of joy and drove me off from my own home. (109)\n",
        "391 :: then the dark iron wounded me within; no blood flowed forth, no gore from within though the sharp-edged steel bit into me hard. (127)\n",
        "392 :: i mourned not the time, nor wept for the wound, nor could i avenge my heavy fate, a life for a life: but i suffer the torment of all that bit the shield. (153)\n",
        "393 :: now i swallow the black, the wood and water. (44)\n",
        "394 :: i embrace within me what falls from above on me where i stand(it is something dark). (84)\n",
        "395 :: i have one foot. (16)\n",
        "396 :: now the ravaging foe plunders my treasure who bore once widely the wolf\u2019s companion. (86)\n",
        "397 :: what came from within me moves on and on, steps on the stout board. (67)\n",
        "398 :: i war oft against wave and fight against wind, do battle with both, when i reach to the ground, covered by the waters. (118)\n",
        "399 :: the land is strange to me. (26)\n",
        "400 :: i am strong in the strife if i stay at rest. (44)\n",
        "401 :: if i fail at that, they are stronger than i and forthwith they wrench me and put me to rout. (92)\n",
        "402 :: they would carry away what i ought to defend. (45)\n",
        "403 :: i withstand them then if my tail endures and the stones hold me fast. (69)\n",
        "404 :: ask what my name is. (20)\n",
        "405 :: beautifully made in many ways is this our world, cunningly adorned. (67)\n",
        "406 :: marvelous is its motion, i saw this device grind against the gravel, crying out as it went. (91)\n",
        "407 :: this marvelous thing had no sight nor feeling, neither shoulders nor arms. (74)\n",
        "408 :: one foot only had this curious device to journey along on, to move over the fields. (83)\n",
        "409 :: it had many ribs, its mouth was midway. (39)\n",
        "410 :: useful to mortals, it bears abundance of food to the people, brings them plenty and pays to men annual tribute which all enjoy, the high and the lowly. (151)\n",
        "411 :: explain if you can, who are wise in words, what this thing may be. (66)\n",
        "412 :: i am honored among men both near and far; brought from the groves and inhabited hills, from vales and from downs. (113)\n",
        "413 :: by day i was borne on wings through the air and happily wafted to the shelter of roofs. (87)\n",
        "414 :: then they bathed me in butts. (29)\n",
        "415 :: now i bind and i scourge and i overthrow the young to the ground and the elders sometimes, and this he soon finds who takes me on and attacks me with violence; he falls on his back unless he flees from his folly. (212)\n",
        "416 :: robbed of his strength, though strong in speech, he is deprived of his powers, and control of his mind, of his feet and his hands. (130)\n",
        "417 :: ask what my name is who bind men to the ground, the foolish after fighting, in broad daylight. (94)\n",
        "418 :: a thing came marvelously moving over the waves, comely from the keel up. (72)\n",
        "419 :: it called out to the land, loudly resounding. (45)\n",
        "420 :: its laughter was horrible, awful in its place. (46)\n",
        "421 :: its edges were sharp; hateful it was, and sluggish to battle, bitter in its hostile deeds. (90)\n",
        "422 :: it dug into shield-walls, hard, ravaging. (41)\n",
        "423 :: it spread mischievous spells. (29)\n",
        "424 :: it spoke with cunning craft about its creation: \u201cdearest of women is indeed my mother; she is my daughter grown big and strong. (129)\n",
        "425 :: it is known to men of old, among all people, that she shall stand up beautifully everywhere in the world.\u201d (108)\n",
        "426 :: there\u2019s a bit of earth beautifully sown with the hardest and the sharpest and the grimmest that men own. (106)\n",
        "427 :: cut and cleaned, turned and dried; pleached and wound; bleached and bound; adorned and arrayed and borne away to the doors of men. (130)\n",
        "428 :: joy is within for living creatures. (35)\n",
        "429 :: it delays and it stays a long long while. (41)\n",
        "430 :: they live in joy and naught gainsays. (37)\n",
        "431 :: but after the death they start talking big, chattering, chittering. (67)\n",
        "432 :: it is hard for a wise man to say what this is. (46)\n",
        "433 :: a creature came where many men sat at council with wise hearts. (63)\n",
        "434 :: it had one eye and its ears were two; it had two feet and twelve hundred heads, a back and a belly and two hands, arms and shoulders, one neck, and two sides. (158)\n",
        "435 :: say what i\u2019m called. (22)\n",
        "436 :: not silent is my hall, nor i myself am loud. (44)\n",
        "437 :: for us two the lord ordained our ways together. (47)\n",
        "438 :: i am swifter than he and at times stronger; he is more enduring. (64)\n",
        "439 :: often i rest; he must run on. (29)\n",
        "440 :: with him is my home all my life long. (37)\n",
        "441 :: if we two are parted my death is destined. (42)\n",
        "442 :: came sixty riding on horseback to the seashore. (47)\n",
        "443 :: eleven rode on stately steeds; four white horses. (49)\n",
        "444 :: however they tried they could not cross the water, for it was too deep and the banks too high and the currents too strong. (122)\n",
        "445 :: so they climbed on a wagon, with their horses under the pole. (61)\n",
        "446 :: then a horse bore them all, horses and proud men with spears, across the bay and on to the land, though no ox drew it, nor powerful slaves, nor stout steed\u2014neither swam nor walked on the ground under the strange burden, nor stirred the waters, nor flew in the air, nor turned back. (283)\n",
        "447 :: yet the men crossed the stream and their steeds also, from the high bank. (73)\n",
        "448 :: so they strode up on the other side bravely, men and horses, safe and sound from the water. (91)\n",
        "449 :: he sat at his wine with his two wives and his two sons and his two daughters, the beloved sisters, and their two sons, goodly first born. (137)\n",
        "450 :: the father of each of these noble ones was there and there also an uncle and a nephew. (86)\n",
        "451 :: five in all, men and women, were sitting together. (50)\n",
        "452 :: i saw two captives carried in the house under the hall-roof; sturdy were they both; companions they were, fast bound together. (126)\n",
        "453 :: close to one of them was a dark-skinned slave. (46)\n",
        "454 :: she controlled them both by fast fetters. (41)\n",
        "455 :: i was a young woman, a fair-haired lady, and at the same time a peerless warrior; i flew with the birds and swam in the sea, dove under the wave, and was dead among fishes, and i walked on the ground. (200)\n",
        "456 :: i had a living soul. (20)\n",
        "457 :: i am a lordly, thing known to nobles, and often i rest, famous among peoples, the mighty and the lowly; i travel widely and to me first a stranger remains to my friends the delight of plunderers, if i am to have success in the cities or bright reward. (251)\n",
        "458 :: now wise men exceedingly love my presence. (42)\n",
        "459 :: to many i shall declare wisdom. (31)\n",
        "460 :: there they speak not, none the world over. (42)\n",
        "461 :: though now the sons of men who live on the earth eagerly seek the tracks that i make. (85)\n",
        "462 :: i sometimes conceal those paths of mine from all mankind. (57)\n",
        "463 :: i\u2019m a wonderful thing; i vary my voice: i bark like a dog, i bleat like a goat, i quack like a goose, i shriek like a hawk; i imitate the eagle, the gray one, the cry of the fighting bird; sometimes the kite\u2019s voice is familiar to my mouth, or the sea-mew\u2019s song, where i happily sit. (290)\n",
        "464 :: gift is my name, oak and riding and the god helps,hail and ice. (63)\n",
        "465 :: now you have my name, as those six letters clearly betoken. (59)\n",
        "466 :: i saw there two beautiful creatures openly playing the game of love. (68)\n",
        "467 :: if the affair prospered, the fair-haired one proudly arrayed, received her due fulness. (87)\n",
        "468 :: now i can tell the assembled bookmen the names of both in runic letters. (72)\n",
        "469 :: there shall be need, two of these, and the bright ash tree, one on the line, and then two oaks and two hails likewise. (118)\n",
        "470 :: whoever has unlocked with the power of the key the clasps of the chest which held the riddle cunningly hidden from the learned in runes\u2014 now is revealed to them here as they drink how those two of low minds are called by name. (228)\n",
        "471 :: i saw the wight going on its way. (33)\n",
        "472 :: it was splendidly, wonderfully arrayed. (39)\n",
        "473 :: the wonder was on the wave; water became bone. (46)\n",
        "474 :: i saw \u2026 s r o h high-spirited, with gleaming head rinning swiftly over the fair land; it had on its back warlike strength. (124)\n",
        "475 :: n o m rode not-mailed a g e w far traveling it bore strong on its way a bold c o f o a h the course was the brighter, the journey of these. (139)\n",
        "476 :: say what i am called. (21)\n",
        "477 :: i saw w and i going over the plain bearing b e. for them both as they went was the owner\u2019s joy; h and a very strong. (118)\n",
        "478 :: th and e; the f and a rejoiced; flew over ea s and f of the people themselves. (78)\n",
        "479 :: i saw a thing moving over the wave[or ways]. (44)\n",
        "480 :: it was gorgeously, wondrously arrayed. (38)\n",
        "481 :: it had four feet beneath its belly[and eight man hwm wiif mxlkfw f horse qxxs\u2014up on its back.] (96)\n",
        "482 :: it had two wings and twelve eyes and six heads. (47)\n",
        "483 :: tell what it was. (17)\n",
        "484 :: it moved over the water; nor was it a bird alone, but there was a likeness of each of these: a horse and a man, a dog and a bird, and also the shape of a woman. (160)\n",
        "485 :: you know how to say, if you can, who know the truth, just how the nature of the thing may go. (93)\n",
        "486 :: i saw a swift one going along the path (38)\n",
        "487 :: i\u2019m a wonderful thing, a joy to women, to neighbors useful. (61)\n",
        "488 :: i injure no one who lives in a village save only my slayer. (59)\n",
        "489 :: i stand up high and steep over the bed; underneath i\u2019m shaggy. (64)\n",
        "490 :: sometimes ventures a young and handsome peasant\u2019s daughter, a maiden proud, to lay hold on me. (96)\n",
        "491 :: she seizes me, red, plunders my head, fixes on me fast, feels straightway what meeting me means when she thus approaches, a curly-haired woman. (143)\n",
        "492 :: wet is that eye. (16)\n",
        "493 :: splendidly it hangs by a man\u2019s thigh, under the master\u2019s cloak. (67)\n",
        "494 :: in front is a hole. (19)\n",
        "495 :: it is stiff and hard; it has a goodly place. (44)\n",
        "496 :: when the young man his own garment lifts over his knee, he wishes to visit with the head of what hangs the familiar hole he had often filled with its equal length. (163)\n",
        "497 :: i have heard of something wax in a corner, swell and pop, lift up the covers. (77)\n",
        "498 :: a proud-minded woman seized with her hands that boneless thing, a prince\u2019s daughter; covered with her dress the swelling thing. (129)\n",
        "499 :: a youth came along to where he knew she stood in a corner. (58)\n",
        "500 :: forth he strode, a vigorous young man, lifted up her own dress with his hands, thrust under her girdle something stiff as she stood there; worked his will; both of them shook. (175)\n",
        "501 :: a thane hurried up, useful at times, a capable servant; nonetheless he grew tired from time to time, though strong at first, weary with work. (141)\n",
        "502 :: beneath the girdle there began to grow what often good men love heartily and buy with money. (92)\n",
        "503 :: often a goodly damsel, a lady, locked me close in a chest. (58)\n",
        "504 :: sometimes with her hands she took me out and gave me to her lord, a fine chieftain, as he commanded her. (104)\n",
        "505 :: then he thrust his head well inside me, up from below, into the narrow part. (76)\n",
        "506 :: if the strength prevailed of him who received me, adorned as i was, something or other rough was due to fill me. (112)\n",
        "507 :: guess what i mean. (18)\n",
        "508 :: i am hard and sharp, strong in entering, bold in coming out, good and true to my lord. (86)\n",
        "509 :: i go in underneath and myself open up the proper way. (53)\n",
        "510 :: the warrior is in haste who pushes me from behind a hero with his dress. (72)\n",
        "511 :: sometimes he draws me out, hot from the hole. (45)\n",
        "512 :: sometimes i go back in the narrow place\u2014 i know not where. (60)\n",
        "513 :: a southern man drives me hard. (30)\n",
        "514 :: say what my name is. (20)\n",
        "515 :: a warrior is wondrously brought into the world for the use of lords by two dumb things; brightly extracted, which for his hurt foe bears against foe. (149)\n",
        "516 :: strong though he is a woman binds him. (38)\n",
        "517 :: he obeys them well, serves them quietly, if maids and men tend him duly, feed him fairly. (89)\n",
        "518 :: he exalts them in comfort for their joy in life, grimly rewards one who lets him grow proud. (92)\n",
        "519 :: i saw the thing; its belly was at the back hugely puffed out. (61)\n",
        "520 :: a servant attended it, a man of might. (38)\n",
        "521 :: and much had it suffered when that which filled it flew from its eye. (69)\n",
        "522 :: it does not always die when it has to give what is in it to another. (68)\n",
        "523 :: but there comes again reward to its bosom. (42)\n",
        "524 :: its bloom returns. (18)\n",
        "525 :: it creates a son; it is its own father. (39)\n",
        "526 :: i saw a marvelous thing; it had a big belly mightily swollen. (61)\n",
        "527 :: a servant followed it, powerful and strong of hand. (51)\n",
        "528 :: great i thought him, a goodly warrior. (38)\n",
        "529 :: he seized hold at once, with heaven\u2019s tooth. (46)\n",
        "530 :: blew in its eye. (16)\n",
        "531 :: it barked, weakened willingly; would none the less. (51)\n",
        "532 :: i\u2019m a wonderful thing, cannot say a word or speak for men though i have a mouth a broad belly. (96)\n",
        "533 :: i was on a ship and more of my kindred. (39)\n",
        "534 :: renewed that is mother of many kindreds, of the best, of the darkest, of the dearest that the children of men throughout the bosom of earth own with joy. (153)\n",
        "535 :: we here on earth cannot live at all unless we enjoy what those children do. (75)\n",
        "536 :: this is something for all mortals to reflect on, all learned men, what this thing is. (85)\n",
        "537 :: often shall i prove to be a thing of value to the joys of the hall when i am brought forth, happy with gold, where men are drinking. (132)\n",
        "538 :: often in the bower the faithful servant kisses my mouth where we two are together \u2026 (85)\n",
        "539 :: i have heard of a splendid thing, of the lord of peoples, a word of incantation \u2026 several defective lines and then the conclusion: i have become a teacher of peoples, live an eternal life in many lands, while men inhabit the bosom of earth. (242)\n",
        "540 :: i have often seen it adorned with gold where men were drinking, with treasures and silver. (90)\n",
        "541 :: say if you can, if you are wise enough, what this thing is. (59)\n",
        "542 :: i am a strong man\u2019s property clothed in red[gold?]. (53)\n",
        "543 :: my place was first the hard steep ground with fair bright herbs. (64)\n",
        "544 :: now i am the leavings of harsh things, the fire and the file. (61)\n",
        "545 :: i am closely constrained and honored with wires. (48)\n",
        "546 :: he sometimes weeps, the bearer of gold, because of my grasp when i shall ravage \u2026 (83)\n",
        "547 :: ancient my lineage. (19)\n",
        "548 :: i lived in towns after the keeper of fire. (42)\n",
        "549 :: encircled with flame purified by fire. (38)\n",
        "550 :: now earth\u2019s brother, an enemy, guards me, who was first for me a bringer of sorrow. (85)\n",
        "551 :: full well i remember who in the beginning drove my lineage, destroyed all the world. (84)\n",
        "552 :: i may do him no harm, but i raise up captivity from time to time, the wide world over. (86)\n",
        "553 :: i have many glories, no little strength in all the land, but i must conceal from every man the secret power of precious skill and the path i follow. (148)\n",
        "554 :: tell what my name is. (21)\n",
        "555 :: i was the boast of brown[things], a tree in the forest, a fine living thing and a fruit of the field, a foundation of joy, a woman\u2019s message, gold in the homes. (162)\n",
        "556 :: now i am a warrior\u2019s happy weapon with a ring \u2026 (51)\n",
        "557 :: smith \u2026 higher than heaven \u2026 \u2026 than the sun. (50)\n",
        "558 :: sharper than salt \u2026 dearer than all this light, brighter than \u2026 (67)\n",
        "559 :: it seemed strange to me, a wolf held by a lamb; the lamb fell \u2026 and disemboweled the wolf. (92)\n",
        "560 :: as i stood and watched i beheld great glory: there stood two wolves troubling a third\u2014 four feet had they; with seven eyes they saw. (134)\n",
        "561 :: to my people it is as if one should give them a gift; they will oppress him if he comes into the throng it is otherwise with us. (128)\n",
        "562 :: wolf is on an island, i on another; the island is firm, encompassed by marsh; there are fierce men there on the island; they will. (130)\n",
        "563 :: it is otherwise with us. (24)\n",
        "564 :: for my wolf with far-wandering longings; then it was rainy weather and i sat tearful, when the man bold in war surrounded me with boughs: it was joy for me so far, yet it was also pain. (185)\n",
        "565 :: wolf, my wolf, thy hopes have made me sick, thy rare visits a grieving spirit, not at all want of food. (103)\n",
        "566 :: dost thou hear, eadwacer? (25)\n",
        "567 :: brisk cub of us two wolf bears to the wood. (43)\n",
        "568 :: easily one tears asunder what was never united, our song together. (66)\n"
       ]
      }
     ],
     "prompt_number": 103
    },
    {
     "cell_type": "heading",
     "level": 1,
     "metadata": {},
     "source": [
      "Markov!"
     ]
    },
    {
     "cell_type": "code",
     "collapsed": false,
     "input": [
      "from collections import defaultdict\n",
      "import nltk \n",
      "from nltk.util import ngrams\n",
      "\n",
      "import re\n",
      "\n",
      "class MarkovChain(object):\n",
      "    def __init__(self, ngram_size=2, divider_token='^'):\n",
      "        self.n = ngram_size\n",
      "        self.transition_probabilities = defaultdict(nltk.FreqDist)\n",
      "        self.divider_token = divider_token\n",
      "        \n",
      "    def tokenize_sentence(self, sentence):\n",
      "        sentence = sentence.lower()\n",
      "        sentence = (self.divider_token + ' ') * self.n + sentence + (' ' + self.divider_token) * self.n\n",
      "        word_tokenized = nltk.tokenize.word_tokenize(sentence)\n",
      "        return list(ngrams(word_tokenized,  self.n))\n",
      "    \n",
      "    def train_sentence(self, sentence):\n",
      "        tokenized = self.tokenize_sentence(sentence.decode('utf-8'))\n",
      "        # Annoyting utf8 hijinx\n",
      "        tokenized = map(lambda x: tuple(map(lambda y: y.encode('utf-8'), x)), tokenized)\n",
      "        num_tokens = len(tokenized)\n",
      "        for i, token in enumerate(tokenized):\n",
      "            if i < num_tokens - 1:\n",
      "                next_token = tokenized[i + 1]\n",
      "                self.transition_probabilities[token][next_token[self.n - 1:]] += 1\n",
      "    \n",
      "    def _get_sentence_starter(self):\n",
      "        return self.n * (self.divider_token,)\n",
      "    \n",
      "    def get_next(self, current, weighted_by_probability=False):\n",
      "        \n",
      "        next_freq = self.transition_probabilities[current]\n",
      "        \n",
      "        if weighted_by_probability:\n",
      "            prob_dist = nltk.MLEProbDist(next_freq)\n",
      "            return prob_dist.generate()\n",
      "        else:\n",
      "            prob_dist = nltk.UniformProbDist(next_freq)\n",
      "            return prob_dist.generate()\n",
      "    \n",
      "    def _clean_sentence(self, generated_sentence):\n",
      "        cleaned = ' '.join(generated_sentence[self.n:-self.n])\n",
      "        cleaned = cleaned.capitalize()\n",
      "        cleaned = re.sub(' (\\W)', r'\\1', cleaned) # Remove space before punct\n",
      "        return cleaned\n",
      "    \n",
      "    def generate_sentence(self, max_words=100, weighted_by_probability=False):\n",
      "\n",
      "        sentence = current = start = self._get_sentence_starter()\n",
      "        count = 0\n",
      "        while True:\n",
      "            count += 1\n",
      "\n",
      "            next_token = self.get_next(current)\n",
      "            sentence = sentence + next_token\n",
      "            current = sentence[-self.n:]            \n",
      "            if current == start or count > max_words:\n",
      "                break\n",
      "        return self._clean_sentence(sentence)\n",
      "    \n",
      "class TweetGenerator(object):\n",
      "    \n",
      "    def __init__(self, riddle_sentences, ngram_size):\n",
      "        \n",
      "        self.riddle_sentences = set(riddle_sentences)\n",
      "        self.chain = MarkovChain(ngram_size=ngram_size)\n",
      "        \n",
      "        for sentence in self.riddle_sentences:\n",
      "            self.chain.train_sentence(sentence)\n",
      "    \n",
      "    def get_unique_sentence(self):\n",
      "        while True:\n",
      "            s = self.chain.generate_sentence()\n",
      "            if s.lower() not in self.riddle_sentences:\n",
      "                break\n",
      "        return s\n",
      "\n",
      "    def get_tweet(self):\n",
      "\n",
      "        tweet = ''\n",
      "\n",
      "        while True:\n",
      "            next_sentence = self.get_unique_sentence()\n",
      "            if len(next_sentence) > 120:\n",
      "                continue\n",
      "            if len(tweet) > 0 and len(tweet) + len(next_sentence) > 120:\n",
      "                break\n",
      "            tweet = tweet + next_sentence + ' '\n",
      "\n",
      "        return tweet[:-1].strip()\n",
      "    \n",
      "UTF8_TAB = '\\xc2\\xa0'\n",
      "\n",
      "def badassify_sentence(sentence):\n",
      "    new_sentence = ''\n",
      "    split_sentence = sentence.split(' ')\n",
      "    while len(split_sentence) > 0:\n",
      "        first_half = random.randrange(3, 5)\n",
      "        second_half = 4 if first_half == 3 else 3    \n",
      "        new_sentence = new_sentence + ' '.join(split_sentence[:first_half]) + 4 * UTF8_TAB + \\\n",
      "            ' '.join(split_sentence[first_half:first_half + second_half]) + '\\n' \n",
      "        split_sentence = split_sentence[2 * num_chars + 1:]\n",
      "    return new_sentence.strip().strip(UTF8_TAB)"
     ],
     "language": "python",
     "metadata": {},
     "outputs": [],
     "prompt_number": 191
    },
    {
     "cell_type": "code",
     "collapsed": false,
     "input": [
      "tg = TweetGenerator(riddle_sentences, ngram_size=3)\n",
      "foo = tg.get_tweet()\n",
      "print foo"
     ],
     "language": "python",
     "metadata": {},
     "outputs": [
      {
       "output_type": "stream",
       "stream": "stdout",
       "text": [
        "Old with many days over deep streams; sometimes he went back into deep dales, seeking for safety, strong of stride.\n"
       ]
      }
     ],
     "prompt_number": 131
    },
    {
     "cell_type": "code",
     "collapsed": false,
     "input": [
      "count = 5000\n",
      "overage = 0\n",
      "\n",
      "generated = set()\n",
      "badass = set()\n",
      "tg = TweetGenerator(riddle_sentences, ngram_size=3)\n",
      "\n",
      "while count > 0:\n",
      "    tweet = tg.get_tweet()\n",
      "    badass_tweet =  badassify_sentence(tweet)\n",
      "    if len(badass_tweet) <= 140 and tweet not in generated:\n",
      "        generated.add(tweet)\n",
      "        badass.add(badass_tweet)\n",
      "        count -=1\n",
      "        if count % 100 == 0:\n",
      "            print count"
     ],
     "language": "python",
     "metadata": {},
     "outputs": [
      {
       "output_type": "stream",
       "stream": "stdout",
       "text": [
        "4900\n",
        "4800"
       ]
      },
      {
       "output_type": "stream",
       "stream": "stdout",
       "text": [
        "\n",
        "4700"
       ]
      },
      {
       "output_type": "stream",
       "stream": "stdout",
       "text": [
        "\n",
        "4600"
       ]
      },
      {
       "output_type": "stream",
       "stream": "stdout",
       "text": [
        "\n",
        "4500"
       ]
      },
      {
       "output_type": "stream",
       "stream": "stdout",
       "text": [
        "\n",
        "4400"
       ]
      },
      {
       "output_type": "stream",
       "stream": "stdout",
       "text": [
        "\n",
        "4300"
       ]
      },
      {
       "output_type": "stream",
       "stream": "stdout",
       "text": [
        "\n",
        "4200"
       ]
      },
      {
       "output_type": "stream",
       "stream": "stdout",
       "text": [
        "\n",
        "4100"
       ]
      },
      {
       "output_type": "stream",
       "stream": "stdout",
       "text": [
        "\n",
        "4000"
       ]
      },
      {
       "output_type": "stream",
       "stream": "stdout",
       "text": [
        "\n",
        "3900"
       ]
      },
      {
       "output_type": "stream",
       "stream": "stdout",
       "text": [
        "\n",
        "3800"
       ]
      },
      {
       "output_type": "stream",
       "stream": "stdout",
       "text": [
        "\n",
        "3700"
       ]
      },
      {
       "output_type": "stream",
       "stream": "stdout",
       "text": [
        "\n",
        "3600"
       ]
      },
      {
       "output_type": "stream",
       "stream": "stdout",
       "text": [
        "\n",
        "3500"
       ]
      },
      {
       "output_type": "stream",
       "stream": "stdout",
       "text": [
        "\n",
        "3400"
       ]
      },
      {
       "output_type": "stream",
       "stream": "stdout",
       "text": [
        "\n",
        "3300"
       ]
      },
      {
       "output_type": "stream",
       "stream": "stdout",
       "text": [
        "\n",
        "3200"
       ]
      },
      {
       "output_type": "stream",
       "stream": "stdout",
       "text": [
        "\n",
        "3100"
       ]
      },
      {
       "output_type": "stream",
       "stream": "stdout",
       "text": [
        "\n",
        "3000"
       ]
      },
      {
       "output_type": "stream",
       "stream": "stdout",
       "text": [
        "\n",
        "2900"
       ]
      },
      {
       "output_type": "stream",
       "stream": "stdout",
       "text": [
        "\n",
        "2800"
       ]
      },
      {
       "output_type": "stream",
       "stream": "stdout",
       "text": [
        "\n",
        "2700"
       ]
      },
      {
       "output_type": "stream",
       "stream": "stdout",
       "text": [
        "\n",
        "2600"
       ]
      },
      {
       "output_type": "stream",
       "stream": "stdout",
       "text": [
        "\n",
        "2500"
       ]
      },
      {
       "output_type": "stream",
       "stream": "stdout",
       "text": [
        "\n",
        "2400"
       ]
      },
      {
       "output_type": "stream",
       "stream": "stdout",
       "text": [
        "\n",
        "2300"
       ]
      },
      {
       "output_type": "stream",
       "stream": "stdout",
       "text": [
        "\n",
        "2200"
       ]
      },
      {
       "output_type": "stream",
       "stream": "stdout",
       "text": [
        "\n",
        "2100"
       ]
      },
      {
       "output_type": "stream",
       "stream": "stdout",
       "text": [
        "\n",
        "2000"
       ]
      },
      {
       "output_type": "stream",
       "stream": "stdout",
       "text": [
        "\n",
        "1900"
       ]
      },
      {
       "output_type": "stream",
       "stream": "stdout",
       "text": [
        "\n",
        "1800"
       ]
      },
      {
       "output_type": "stream",
       "stream": "stdout",
       "text": [
        "\n",
        "1700"
       ]
      },
      {
       "output_type": "stream",
       "stream": "stdout",
       "text": [
        "\n",
        "1600"
       ]
      },
      {
       "output_type": "stream",
       "stream": "stdout",
       "text": [
        "\n",
        "1500"
       ]
      },
      {
       "output_type": "stream",
       "stream": "stdout",
       "text": [
        "\n",
        "1400"
       ]
      },
      {
       "output_type": "stream",
       "stream": "stdout",
       "text": [
        "\n",
        "1300"
       ]
      },
      {
       "output_type": "stream",
       "stream": "stdout",
       "text": [
        "\n",
        "1200"
       ]
      },
      {
       "output_type": "stream",
       "stream": "stdout",
       "text": [
        "\n",
        "1100"
       ]
      },
      {
       "output_type": "stream",
       "stream": "stdout",
       "text": [
        "\n",
        "1000"
       ]
      },
      {
       "output_type": "stream",
       "stream": "stdout",
       "text": [
        "\n",
        "900"
       ]
      },
      {
       "output_type": "stream",
       "stream": "stdout",
       "text": [
        "\n",
        "800"
       ]
      },
      {
       "output_type": "stream",
       "stream": "stdout",
       "text": [
        "\n",
        "700"
       ]
      },
      {
       "output_type": "stream",
       "stream": "stdout",
       "text": [
        "\n",
        "600"
       ]
      },
      {
       "output_type": "stream",
       "stream": "stdout",
       "text": [
        "\n",
        "500"
       ]
      },
      {
       "output_type": "stream",
       "stream": "stdout",
       "text": [
        "\n",
        "400"
       ]
      },
      {
       "output_type": "stream",
       "stream": "stdout",
       "text": [
        "\n",
        "300"
       ]
      },
      {
       "output_type": "stream",
       "stream": "stdout",
       "text": [
        "\n",
        "200"
       ]
      },
      {
       "output_type": "stream",
       "stream": "stdout",
       "text": [
        "\n",
        "100"
       ]
      },
      {
       "output_type": "stream",
       "stream": "stdout",
       "text": [
        "\n",
        "0"
       ]
      },
      {
       "output_type": "stream",
       "stream": "stdout",
       "text": [
        "\n"
       ]
      }
     ],
     "prompt_number": 199
    },
    {
     "cell_type": "code",
     "collapsed": false,
     "input": [
      "popable = set(badass)"
     ],
     "language": "python",
     "metadata": {},
     "outputs": [],
     "prompt_number": 202
    },
    {
     "cell_type": "code",
     "collapsed": false,
     "input": [
      "print popable.pop()"
     ],
     "language": "python",
     "metadata": {},
     "outputs": [
      {
       "output_type": "stream",
       "stream": "stdout",
       "text": [
        "Good is my note,\u00a0\u00a0\u00a0\u00a0and myself am\n",
        "holy. So that glory\u00a0\u00a0\u00a0\u00a0weaves the might\n",
        "of the welkin\u00a0\u00a0\u00a0\u00a0bears me afar above\n",
        "mankind.\n"
       ]
      }
     ],
     "prompt_number": 210
    },
    {
     "cell_type": "code",
     "collapsed": false,
     "input": [],
     "language": "python",
     "metadata": {},
     "outputs": []
    }
   ],
   "metadata": {}
  }
 ]
}