{
 "metadata": {
  "name": "",
  "signature": "sha256:2022b90366ab6d652045cac4e471cdf57024a75e138fdddeec28926ef354af0f"
 },
 "nbformat": 3,
 "nbformat_minor": 0,
 "worksheets": [
  {
   "cells": [
    {
     "cell_type": "code",
     "collapsed": false,
     "input": [
      "from twython import Twython\n",
      "import os\n",
      "\n",
      "consumer_key = os.environ.get('HWAETBOT_CONSUMER_KEY')\n",
      "consumer_secret = os.environ.get('HWAETBOT_CONSUMER_SECRET')\n",
      "access_token = os.environ.get('HWAETBOT_ACCESS_TOKEN')\n",
      "access_token_secret = os.environ.get('HWAETBOT_ACCESS_TOKEN_SECRET')\n",
      "\n",
      "\n",
      "twitter = Twython(consumer_key,\n",
      "                      consumer_secret,\n",
      "                      access_token,\n",
      "                      access_token_secret)\n"
     ],
     "language": "python",
     "metadata": {},
     "outputs": []
    },
    {
     "cell_type": "code",
     "collapsed": false,
     "input": [
      "first_results = twitter.search_users(q=\"medieval\", include_entities=True)"
     ],
     "language": "python",
     "metadata": {},
     "outputs": []
    },
    {
     "cell_type": "code",
     "collapsed": false,
     "input": [
      "map(lambda x: x['screen_name'], twitter.search_users(q=\"medieval\", include_entities=True, count=20, page=51))"
     ],
     "language": "python",
     "metadata": {},
     "outputs": []
    },
    {
     "cell_type": "code",
     "collapsed": false,
     "input": [],
     "language": "python",
     "metadata": {},
     "outputs": []
    }
   ],
   "metadata": {}
  }
 ]
}